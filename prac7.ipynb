{
  "nbformat": 4,
  "nbformat_minor": 0,
  "metadata": {
    "colab": {
      "provenance": []
    },
    "kernelspec": {
      "name": "python3",
      "display_name": "Python 3"
    },
    "language_info": {
      "name": "python"
    }
  },
  "cells": [
    {
      "cell_type": "code",
      "execution_count": null,
      "metadata": {
        "id": "Y8jHv-3iYgZ4"
      },
      "outputs": [],
      "source": [
        "import nltk"
      ]
    },
    {
      "cell_type": "code",
      "source": [
        "nltk.download('punkt')"
      ],
      "metadata": {
        "colab": {
          "base_uri": "https://localhost:8080/"
        },
        "id": "yxYnnWBkYvjL",
        "outputId": "2f9b42b7-6f4a-4616-9dbd-244a74d902f3"
      },
      "execution_count": null,
      "outputs": [
        {
          "output_type": "stream",
          "name": "stderr",
          "text": [
            "[nltk_data] Downloading package punkt to /root/nltk_data...\n",
            "[nltk_data]   Unzipping tokenizers/punkt.zip.\n"
          ]
        },
        {
          "output_type": "execute_result",
          "data": {
            "text/plain": [
              "True"
            ]
          },
          "metadata": {},
          "execution_count": 2
        }
      ]
    },
    {
      "cell_type": "code",
      "source": [
        "nltk.download('stopwords')"
      ],
      "metadata": {
        "colab": {
          "base_uri": "https://localhost:8080/"
        },
        "id": "G6KvmkO4ZY4-",
        "outputId": "d52cdfd1-6737-40d4-a2e5-61cfd2a4ecbe"
      },
      "execution_count": null,
      "outputs": [
        {
          "output_type": "stream",
          "name": "stderr",
          "text": [
            "[nltk_data] Downloading package stopwords to /root/nltk_data...\n",
            "[nltk_data]   Unzipping corpora/stopwords.zip.\n"
          ]
        },
        {
          "output_type": "execute_result",
          "data": {
            "text/plain": [
              "True"
            ]
          },
          "metadata": {},
          "execution_count": 3
        }
      ]
    },
    {
      "cell_type": "code",
      "source": [
        "nltk.download('wordnet')"
      ],
      "metadata": {
        "colab": {
          "base_uri": "https://localhost:8080/"
        },
        "id": "DgpYsjqPZbU9",
        "outputId": "0292e679-ebc5-48a0-bcc0-a7017ad915a0"
      },
      "execution_count": null,
      "outputs": [
        {
          "output_type": "stream",
          "name": "stderr",
          "text": [
            "[nltk_data] Downloading package wordnet to /root/nltk_data...\n"
          ]
        },
        {
          "output_type": "execute_result",
          "data": {
            "text/plain": [
              "True"
            ]
          },
          "metadata": {},
          "execution_count": 4
        }
      ]
    },
    {
      "cell_type": "code",
      "source": [
        "nltk.download('averaged_perceptron_tagger')"
      ],
      "metadata": {
        "colab": {
          "base_uri": "https://localhost:8080/"
        },
        "id": "V1ZxDp4_ZwR9",
        "outputId": "26341da7-2ed2-43cc-853f-53610e28f899"
      },
      "execution_count": null,
      "outputs": [
        {
          "output_type": "stream",
          "name": "stderr",
          "text": [
            "[nltk_data] Downloading package averaged_perceptron_tagger to\n",
            "[nltk_data]     /root/nltk_data...\n",
            "[nltk_data]   Unzipping taggers/averaged_perceptron_tagger.zip.\n"
          ]
        },
        {
          "output_type": "execute_result",
          "data": {
            "text/plain": [
              "True"
            ]
          },
          "metadata": {},
          "execution_count": 5
        }
      ]
    },
    {
      "cell_type": "code",
      "source": [
        "text=\"Tokenization is the first step in text analytics. The process of breaking down a text paragraph into smaller chunks such as wods or sentences is callsed Tokenization.\""
      ],
      "metadata": {
        "id": "eJThlidraRPB"
      },
      "execution_count": null,
      "outputs": []
    },
    {
      "cell_type": "code",
      "source": [
        "from nltk.tokenize import sent_tokenize"
      ],
      "metadata": {
        "id": "kf55tEhwbXMK"
      },
      "execution_count": null,
      "outputs": []
    },
    {
      "cell_type": "code",
      "source": [
        "tokenized_text=sent_tokenize(text)"
      ],
      "metadata": {
        "id": "39fHGOfObgzW"
      },
      "execution_count": null,
      "outputs": []
    },
    {
      "cell_type": "code",
      "source": [
        "tokenized_text"
      ],
      "metadata": {
        "colab": {
          "base_uri": "https://localhost:8080/"
        },
        "id": "v9vpw2tvblAX",
        "outputId": "6c022393-d564-458d-fe39-6afdca8bf37f"
      },
      "execution_count": null,
      "outputs": [
        {
          "output_type": "execute_result",
          "data": {
            "text/plain": [
              "['Tokenization is the first step in text analytics.',\n",
              " 'The process of breaking down a text paragraph into smaller chunks such as wods or sentences is callsed Tokenization.']"
            ]
          },
          "metadata": {},
          "execution_count": 9
        }
      ]
    },
    {
      "cell_type": "code",
      "source": [
        "from nltk.tokenize import word_tokenize"
      ],
      "metadata": {
        "id": "yLLMBkbXboWm"
      },
      "execution_count": null,
      "outputs": []
    },
    {
      "cell_type": "code",
      "source": [
        "tokenized_word=word_tokenize(text)"
      ],
      "metadata": {
        "id": "8aBIlxMMbwaF"
      },
      "execution_count": null,
      "outputs": []
    },
    {
      "cell_type": "code",
      "source": [
        "tokenized_word"
      ],
      "metadata": {
        "colab": {
          "base_uri": "https://localhost:8080/"
        },
        "id": "Wra2VdPAb7JZ",
        "outputId": "d54e901a-0ca6-4a9a-cd86-2cc776416374"
      },
      "execution_count": null,
      "outputs": [
        {
          "output_type": "execute_result",
          "data": {
            "text/plain": [
              "['Tokenization',\n",
              " 'is',\n",
              " 'the',\n",
              " 'first',\n",
              " 'step',\n",
              " 'in',\n",
              " 'text',\n",
              " 'analytics',\n",
              " '.',\n",
              " 'The',\n",
              " 'process',\n",
              " 'of',\n",
              " 'breaking',\n",
              " 'down',\n",
              " 'a',\n",
              " 'text',\n",
              " 'paragraph',\n",
              " 'into',\n",
              " 'smaller',\n",
              " 'chunks',\n",
              " 'such',\n",
              " 'as',\n",
              " 'wods',\n",
              " 'or',\n",
              " 'sentences',\n",
              " 'is',\n",
              " 'callsed',\n",
              " 'Tokenization',\n",
              " '.']"
            ]
          },
          "metadata": {},
          "execution_count": 12
        }
      ]
    },
    {
      "cell_type": "code",
      "source": [
        "from nltk.corpus import stopwords"
      ],
      "metadata": {
        "id": "bbrW3u6ycEAf"
      },
      "execution_count": null,
      "outputs": []
    },
    {
      "cell_type": "code",
      "source": [
        "stop_words=set(stopwords.words(\"english\"))"
      ],
      "metadata": {
        "id": "QmyycLoxcQho"
      },
      "execution_count": null,
      "outputs": []
    },
    {
      "cell_type": "code",
      "source": [
        "stop_words"
      ],
      "metadata": {
        "colab": {
          "base_uri": "https://localhost:8080/"
        },
        "id": "RKUtgRc6cXVf",
        "outputId": "8000c04d-a50f-4963-c2d0-d78d2055ee34"
      },
      "execution_count": null,
      "outputs": [
        {
          "output_type": "execute_result",
          "data": {
            "text/plain": [
              "{'a',\n",
              " 'about',\n",
              " 'above',\n",
              " 'after',\n",
              " 'again',\n",
              " 'against',\n",
              " 'ain',\n",
              " 'all',\n",
              " 'am',\n",
              " 'an',\n",
              " 'and',\n",
              " 'any',\n",
              " 'are',\n",
              " 'aren',\n",
              " \"aren't\",\n",
              " 'as',\n",
              " 'at',\n",
              " 'be',\n",
              " 'because',\n",
              " 'been',\n",
              " 'before',\n",
              " 'being',\n",
              " 'below',\n",
              " 'between',\n",
              " 'both',\n",
              " 'but',\n",
              " 'by',\n",
              " 'can',\n",
              " 'couldn',\n",
              " \"couldn't\",\n",
              " 'd',\n",
              " 'did',\n",
              " 'didn',\n",
              " \"didn't\",\n",
              " 'do',\n",
              " 'does',\n",
              " 'doesn',\n",
              " \"doesn't\",\n",
              " 'doing',\n",
              " 'don',\n",
              " \"don't\",\n",
              " 'down',\n",
              " 'during',\n",
              " 'each',\n",
              " 'few',\n",
              " 'for',\n",
              " 'from',\n",
              " 'further',\n",
              " 'had',\n",
              " 'hadn',\n",
              " \"hadn't\",\n",
              " 'has',\n",
              " 'hasn',\n",
              " \"hasn't\",\n",
              " 'have',\n",
              " 'haven',\n",
              " \"haven't\",\n",
              " 'having',\n",
              " 'he',\n",
              " 'her',\n",
              " 'here',\n",
              " 'hers',\n",
              " 'herself',\n",
              " 'him',\n",
              " 'himself',\n",
              " 'his',\n",
              " 'how',\n",
              " 'i',\n",
              " 'if',\n",
              " 'in',\n",
              " 'into',\n",
              " 'is',\n",
              " 'isn',\n",
              " \"isn't\",\n",
              " 'it',\n",
              " \"it's\",\n",
              " 'its',\n",
              " 'itself',\n",
              " 'just',\n",
              " 'll',\n",
              " 'm',\n",
              " 'ma',\n",
              " 'me',\n",
              " 'mightn',\n",
              " \"mightn't\",\n",
              " 'more',\n",
              " 'most',\n",
              " 'mustn',\n",
              " \"mustn't\",\n",
              " 'my',\n",
              " 'myself',\n",
              " 'needn',\n",
              " \"needn't\",\n",
              " 'no',\n",
              " 'nor',\n",
              " 'not',\n",
              " 'now',\n",
              " 'o',\n",
              " 'of',\n",
              " 'off',\n",
              " 'on',\n",
              " 'once',\n",
              " 'only',\n",
              " 'or',\n",
              " 'other',\n",
              " 'our',\n",
              " 'ours',\n",
              " 'ourselves',\n",
              " 'out',\n",
              " 'over',\n",
              " 'own',\n",
              " 're',\n",
              " 's',\n",
              " 'same',\n",
              " 'shan',\n",
              " \"shan't\",\n",
              " 'she',\n",
              " \"she's\",\n",
              " 'should',\n",
              " \"should've\",\n",
              " 'shouldn',\n",
              " \"shouldn't\",\n",
              " 'so',\n",
              " 'some',\n",
              " 'such',\n",
              " 't',\n",
              " 'than',\n",
              " 'that',\n",
              " \"that'll\",\n",
              " 'the',\n",
              " 'their',\n",
              " 'theirs',\n",
              " 'them',\n",
              " 'themselves',\n",
              " 'then',\n",
              " 'there',\n",
              " 'these',\n",
              " 'they',\n",
              " 'this',\n",
              " 'those',\n",
              " 'through',\n",
              " 'to',\n",
              " 'too',\n",
              " 'under',\n",
              " 'until',\n",
              " 'up',\n",
              " 've',\n",
              " 'very',\n",
              " 'was',\n",
              " 'wasn',\n",
              " \"wasn't\",\n",
              " 'we',\n",
              " 'were',\n",
              " 'weren',\n",
              " \"weren't\",\n",
              " 'what',\n",
              " 'when',\n",
              " 'where',\n",
              " 'which',\n",
              " 'while',\n",
              " 'who',\n",
              " 'whom',\n",
              " 'why',\n",
              " 'will',\n",
              " 'with',\n",
              " 'won',\n",
              " \"won't\",\n",
              " 'wouldn',\n",
              " \"wouldn't\",\n",
              " 'y',\n",
              " 'you',\n",
              " \"you'd\",\n",
              " \"you'll\",\n",
              " \"you're\",\n",
              " \"you've\",\n",
              " 'your',\n",
              " 'yours',\n",
              " 'yourself',\n",
              " 'yourselves'}"
            ]
          },
          "metadata": {},
          "execution_count": 16
        }
      ]
    },
    {
      "cell_type": "code",
      "source": [
        "text=\"How to remove stop words with NLTK library in Python?\""
      ],
      "metadata": {
        "id": "_en7blO4cZEi"
      },
      "execution_count": null,
      "outputs": []
    },
    {
      "cell_type": "code",
      "source": [
        "import re"
      ],
      "metadata": {
        "id": "AEIJmfiydBiz"
      },
      "execution_count": null,
      "outputs": []
    },
    {
      "cell_type": "code",
      "source": [
        "text=re.sub('[^a-zA-Z]', ' ', text)"
      ],
      "metadata": {
        "id": "hTedEM5AdDDx"
      },
      "execution_count": null,
      "outputs": []
    },
    {
      "cell_type": "code",
      "source": [
        "tokens=word_tokenize(text.lower())"
      ],
      "metadata": {
        "id": "EgWsGwjmdLdI"
      },
      "execution_count": null,
      "outputs": []
    },
    {
      "cell_type": "code",
      "source": [
        "tokens"
      ],
      "metadata": {
        "colab": {
          "base_uri": "https://localhost:8080/"
        },
        "id": "dUJsKWSUdSMF",
        "outputId": "1825c7fe-c4af-43d1-cd60-ef1030c294ec"
      },
      "execution_count": null,
      "outputs": [
        {
          "output_type": "execute_result",
          "data": {
            "text/plain": [
              "['how',\n",
              " 'to',\n",
              " 'remove',\n",
              " 'stop',\n",
              " 'words',\n",
              " 'with',\n",
              " 'nltk',\n",
              " 'library',\n",
              " 'in',\n",
              " 'python']"
            ]
          },
          "metadata": {},
          "execution_count": 21
        }
      ]
    },
    {
      "cell_type": "code",
      "source": [
        "filtered_text=[]"
      ],
      "metadata": {
        "id": "jdKwzY2CdXLX"
      },
      "execution_count": null,
      "outputs": []
    },
    {
      "cell_type": "code",
      "source": [
        "for w in tokens:\n",
        "  if w not in stop_words:\n",
        "    filtered_text.append(w)"
      ],
      "metadata": {
        "id": "eDD_fj33diVZ"
      },
      "execution_count": null,
      "outputs": []
    },
    {
      "cell_type": "code",
      "source": [
        "filtered_text"
      ],
      "metadata": {
        "colab": {
          "base_uri": "https://localhost:8080/"
        },
        "id": "EpD7Vatcdu1F",
        "outputId": "a3c611cc-af80-48a3-f252-329b75bd2d04"
      },
      "execution_count": null,
      "outputs": [
        {
          "output_type": "execute_result",
          "data": {
            "text/plain": [
              "['remove', 'stop', 'words', 'nltk', 'library', 'python']"
            ]
          },
          "metadata": {},
          "execution_count": 24
        }
      ]
    },
    {
      "cell_type": "code",
      "source": [
        "tokens"
      ],
      "metadata": {
        "colab": {
          "base_uri": "https://localhost:8080/"
        },
        "id": "0uoi4tB9dxDi",
        "outputId": "b255c253-cadb-4985-895f-1a9c83cac8f1"
      },
      "execution_count": null,
      "outputs": [
        {
          "output_type": "execute_result",
          "data": {
            "text/plain": [
              "['how',\n",
              " 'to',\n",
              " 'remove',\n",
              " 'stop',\n",
              " 'words',\n",
              " 'with',\n",
              " 'nltk',\n",
              " 'library',\n",
              " 'in',\n",
              " 'python']"
            ]
          },
          "metadata": {},
          "execution_count": 25
        }
      ]
    },
    {
      "cell_type": "code",
      "source": [
        "print(\"tokenized sentence: \", tokens)\n",
        "print(f\"filtered sentence: {filtered_text}\")"
      ],
      "metadata": {
        "colab": {
          "base_uri": "https://localhost:8080/"
        },
        "id": "rXOtMAQPd0pg",
        "outputId": "d46889cc-f1d3-4c2c-bcc4-54963886aea1"
      },
      "execution_count": null,
      "outputs": [
        {
          "output_type": "stream",
          "name": "stdout",
          "text": [
            "tokenized sentence:  ['how', 'to', 'remove', 'stop', 'words', 'with', 'nltk', 'library', 'in', 'python']\n",
            "filtered sentence: ['remove', 'stop', 'words', 'nltk', 'library', 'python']\n"
          ]
        }
      ]
    },
    {
      "cell_type": "code",
      "source": [
        "from nltk.stem import PorterStemmer"
      ],
      "metadata": {
        "id": "tG9rb8JBeCkl"
      },
      "execution_count": null,
      "outputs": []
    },
    {
      "cell_type": "code",
      "source": [
        "e_words=[\"waiting\", \"wait\", \"waited\", \"waits\"]\n",
        "ps=PorterStemmer()"
      ],
      "metadata": {
        "id": "9gzQQY52ew2u"
      },
      "execution_count": null,
      "outputs": []
    },
    {
      "cell_type": "code",
      "source": [
        "for w in e_words:\n",
        "  rootWord=ps.stem(w)"
      ],
      "metadata": {
        "id": "rabzNEThfFrI"
      },
      "execution_count": null,
      "outputs": []
    },
    {
      "cell_type": "code",
      "source": [
        "rootWord"
      ],
      "metadata": {
        "colab": {
          "base_uri": "https://localhost:8080/",
          "height": 35
        },
        "id": "7lUzYxPnfRbd",
        "outputId": "12eb6e89-6a95-448a-fa19-26cd0df2f14c"
      },
      "execution_count": null,
      "outputs": [
        {
          "output_type": "execute_result",
          "data": {
            "text/plain": [
              "'wait'"
            ],
            "application/vnd.google.colaboratory.intrinsic+json": {
              "type": "string"
            }
          },
          "metadata": {},
          "execution_count": 37
        }
      ]
    },
    {
      "cell_type": "code",
      "source": [
        "from nltk.stem import WordNetLemmatizer"
      ],
      "metadata": {
        "id": "9P8O50YefSiU"
      },
      "execution_count": null,
      "outputs": []
    },
    {
      "cell_type": "code",
      "source": [
        "wordnet_lemmatizer=WordNetLemmatizer()"
      ],
      "metadata": {
        "id": "ZpUZ2xhQgUdt"
      },
      "execution_count": null,
      "outputs": []
    },
    {
      "cell_type": "code",
      "source": [
        "text=\"studies done cries cry\""
      ],
      "metadata": {
        "id": "LOmK7xxVga1N"
      },
      "execution_count": null,
      "outputs": []
    },
    {
      "cell_type": "code",
      "source": [
        "tokenization=nltk.word_tokenize(text)"
      ],
      "metadata": {
        "id": "8EcjIkRkge5q"
      },
      "execution_count": null,
      "outputs": []
    },
    {
      "cell_type": "code",
      "source": [
        "tokenization"
      ],
      "metadata": {
        "colab": {
          "base_uri": "https://localhost:8080/"
        },
        "id": "hYcqM1MegpNb",
        "outputId": "b4ab29e8-00d8-4818-f4e8-6a59a272969a"
      },
      "execution_count": null,
      "outputs": [
        {
          "output_type": "execute_result",
          "data": {
            "text/plain": [
              "['studies', 'done', 'cries', 'cry']"
            ]
          },
          "metadata": {},
          "execution_count": 42
        }
      ]
    },
    {
      "cell_type": "code",
      "source": [
        "for w in tokenization:\n",
        "  print(f\"Lemma for {w} is {wordnet_lemmatizer.lemmatize(w)}\")"
      ],
      "metadata": {
        "colab": {
          "base_uri": "https://localhost:8080/"
        },
        "id": "Qc9jKNKcgtwD",
        "outputId": "57941e1f-efdd-43d0-80b2-77d30b6e2c20"
      },
      "execution_count": null,
      "outputs": [
        {
          "output_type": "stream",
          "name": "stdout",
          "text": [
            "Lemma for studies is study\n",
            "Lemma for done is done\n",
            "Lemma for cries is cry\n",
            "Lemma for cry is cry\n"
          ]
        }
      ]
    },
    {
      "cell_type": "code",
      "source": [
        "data=\"The pink sweater fit her perfectly\""
      ],
      "metadata": {
        "id": "04UfrEiwiRLx"
      },
      "execution_count": null,
      "outputs": []
    },
    {
      "cell_type": "code",
      "source": [
        "words=word_tokenize(data)"
      ],
      "metadata": {
        "id": "-XtAI_OAjDoR"
      },
      "execution_count": null,
      "outputs": []
    },
    {
      "cell_type": "code",
      "source": [
        "words"
      ],
      "metadata": {
        "colab": {
          "base_uri": "https://localhost:8080/"
        },
        "id": "zp550y2ojGH0",
        "outputId": "ccb6e6a8-a8ed-4930-9029-1e6f568fe461"
      },
      "execution_count": null,
      "outputs": [
        {
          "output_type": "execute_result",
          "data": {
            "text/plain": [
              "['The', 'pink', 'sweater', 'fit', 'her', 'perfectly']"
            ]
          },
          "metadata": {},
          "execution_count": 46
        }
      ]
    },
    {
      "cell_type": "code",
      "source": [
        "for word in words:\n",
        "  print(nltk.pos_tag([word]))"
      ],
      "metadata": {
        "colab": {
          "base_uri": "https://localhost:8080/"
        },
        "id": "_9tw5bdwjHDq",
        "outputId": "001273ca-b417-4d1f-8309-41ec2becfffd"
      },
      "execution_count": null,
      "outputs": [
        {
          "output_type": "stream",
          "name": "stdout",
          "text": [
            "[('The', 'DT')]\n",
            "[('pink', 'NN')]\n",
            "[('sweater', 'NN')]\n",
            "[('fit', 'NN')]\n",
            "[('her', 'PRP$')]\n",
            "[('perfectly', 'RB')]\n"
          ]
        }
      ]
    },
    {
      "cell_type": "code",
      "source": [
        "import pandas as pd\n",
        "from sklearn.feature_extraction.text import TfidfVectorizer"
      ],
      "metadata": {
        "id": "sXStQYGMjPOb"
      },
      "execution_count": null,
      "outputs": []
    },
    {
      "cell_type": "code",
      "source": [
        "docA=\"Jupiter is the largest planet.\"\n",
        "docB=\"Mars is the fourth planet from the Sun.\""
      ],
      "metadata": {
        "id": "4y9kWfSNjZia"
      },
      "execution_count": null,
      "outputs": []
    },
    {
      "cell_type": "code",
      "source": [
        "bagOfWordsA=docA.split(' ')\n",
        "bagOfWordsB=docB.split(' ')"
      ],
      "metadata": {
        "id": "lImsZje_jmy_"
      },
      "execution_count": null,
      "outputs": []
    },
    {
      "cell_type": "code",
      "source": [
        "bagOfWordsA"
      ],
      "metadata": {
        "colab": {
          "base_uri": "https://localhost:8080/"
        },
        "id": "A2oYCv2Sj2o_",
        "outputId": "96bbf584-5b11-48b1-fa54-2090837f7498"
      },
      "execution_count": null,
      "outputs": [
        {
          "output_type": "execute_result",
          "data": {
            "text/plain": [
              "['Jupiter', 'is', 'the', 'largest', 'planet.']"
            ]
          },
          "metadata": {},
          "execution_count": 51
        }
      ]
    },
    {
      "cell_type": "code",
      "source": [
        "bagOfWordsB"
      ],
      "metadata": {
        "colab": {
          "base_uri": "https://localhost:8080/"
        },
        "id": "_NeL789Dj4zT",
        "outputId": "368ee829-1f33-4aa3-a690-7b7995af666f"
      },
      "execution_count": null,
      "outputs": [
        {
          "output_type": "execute_result",
          "data": {
            "text/plain": [
              "['Mars', 'is', 'the', 'fourth', 'planet', 'from', 'the', 'Sun.']"
            ]
          },
          "metadata": {},
          "execution_count": 52
        }
      ]
    },
    {
      "cell_type": "code",
      "source": [
        "uniqueWords=set(bagOfWordsA).union(set(bagOfWordsB))"
      ],
      "metadata": {
        "id": "VmK8QV5-kA8e"
      },
      "execution_count": null,
      "outputs": []
    },
    {
      "cell_type": "code",
      "source": [
        "numOfWordsA=dict.fromkeys(uniqueWords, 0)"
      ],
      "metadata": {
        "id": "7oR6Bf7AkIkV"
      },
      "execution_count": null,
      "outputs": []
    },
    {
      "cell_type": "code",
      "source": [
        "numOfWordsA"
      ],
      "metadata": {
        "colab": {
          "base_uri": "https://localhost:8080/"
        },
        "id": "apSLG-i7i-GD",
        "outputId": "2d0e4070-fe5e-4891-b087-396119366375"
      },
      "execution_count": null,
      "outputs": [
        {
          "output_type": "execute_result",
          "data": {
            "text/plain": [
              "{'Sun.': 0,\n",
              " 'planet': 0,\n",
              " 'is': 0,\n",
              " 'from': 0,\n",
              " 'Mars': 0,\n",
              " 'fourth': 0,\n",
              " 'the': 0,\n",
              " 'planet.': 0,\n",
              " 'Jupiter': 0,\n",
              " 'largest': 0}"
            ]
          },
          "metadata": {},
          "execution_count": 59
        }
      ]
    },
    {
      "cell_type": "code",
      "source": [
        "for word in bagOfWordsA:\n",
        "  numOfWordsA[word]+=1"
      ],
      "metadata": {
        "id": "RJkslXCFismH"
      },
      "execution_count": null,
      "outputs": []
    },
    {
      "cell_type": "code",
      "source": [
        "numOfWordsA"
      ],
      "metadata": {
        "colab": {
          "base_uri": "https://localhost:8080/"
        },
        "id": "tZZYoIcKi8UL",
        "outputId": "c3683540-3e25-4ca2-f6f7-2c818d775016"
      },
      "execution_count": null,
      "outputs": [
        {
          "output_type": "execute_result",
          "data": {
            "text/plain": [
              "{'Sun.': 0,\n",
              " 'planet': 0,\n",
              " 'is': 1,\n",
              " 'from': 0,\n",
              " 'Mars': 0,\n",
              " 'fourth': 0,\n",
              " 'the': 1,\n",
              " 'planet.': 1,\n",
              " 'Jupiter': 1,\n",
              " 'largest': 1}"
            ]
          },
          "metadata": {},
          "execution_count": 61
        }
      ]
    },
    {
      "cell_type": "code",
      "source": [
        "numOfWordsB=dict.fromkeys(uniqueWords, 0)"
      ],
      "metadata": {
        "id": "I9-hzC5KjI_v"
      },
      "execution_count": null,
      "outputs": []
    },
    {
      "cell_type": "code",
      "source": [
        "numOfWordsB"
      ],
      "metadata": {
        "colab": {
          "base_uri": "https://localhost:8080/"
        },
        "id": "iwD-zE0-jTtb",
        "outputId": "78b1f72c-baf1-4c82-8218-2b69c383b7d1"
      },
      "execution_count": null,
      "outputs": [
        {
          "output_type": "execute_result",
          "data": {
            "text/plain": [
              "{'Sun.': 0,\n",
              " 'planet': 0,\n",
              " 'is': 0,\n",
              " 'from': 0,\n",
              " 'Mars': 0,\n",
              " 'fourth': 0,\n",
              " 'the': 0,\n",
              " 'planet.': 0,\n",
              " 'Jupiter': 0,\n",
              " 'largest': 0}"
            ]
          },
          "metadata": {},
          "execution_count": 63
        }
      ]
    },
    {
      "cell_type": "code",
      "source": [
        "for word in bagOfWordsB:\n",
        "  numOfWordsB[word]+=1"
      ],
      "metadata": {
        "id": "6PYINHBKjWha"
      },
      "execution_count": null,
      "outputs": []
    },
    {
      "cell_type": "code",
      "source": [
        "numOfWordsB"
      ],
      "metadata": {
        "colab": {
          "base_uri": "https://localhost:8080/"
        },
        "id": "IDDuM5VclR9q",
        "outputId": "236d9b76-9cb8-490b-cc0c-9d6a17b696d2"
      },
      "execution_count": null,
      "outputs": [
        {
          "output_type": "execute_result",
          "data": {
            "text/plain": [
              "{'Sun.': 1,\n",
              " 'planet': 1,\n",
              " 'is': 1,\n",
              " 'from': 1,\n",
              " 'Mars': 1,\n",
              " 'fourth': 1,\n",
              " 'the': 2,\n",
              " 'planet.': 0,\n",
              " 'Jupiter': 0,\n",
              " 'largest': 0}"
            ]
          },
          "metadata": {},
          "execution_count": 65
        }
      ]
    },
    {
      "cell_type": "code",
      "source": [
        "def computeTF(wordDict, bagOfWords):\n",
        "  tfDict={}\n",
        "  bagOfWordsCount=len(bagOfWords)\n",
        "  for word, count in wordDict.items():\n",
        "    tfDict[word]=count/float(bagOfWordsCount)\n",
        "  return tfDict"
      ],
      "metadata": {
        "id": "tXJhoa17lUD_"
      },
      "execution_count": null,
      "outputs": []
    },
    {
      "cell_type": "code",
      "source": [
        "tfA=computeTF(numOfWordsA, bagOfWordsA)"
      ],
      "metadata": {
        "id": "DYCFyKMDl5X3"
      },
      "execution_count": null,
      "outputs": []
    },
    {
      "cell_type": "code",
      "source": [
        "tfA"
      ],
      "metadata": {
        "colab": {
          "base_uri": "https://localhost:8080/"
        },
        "id": "ykCEaXOemBU3",
        "outputId": "71f4c5b7-93b3-4314-c4f4-8d0950f64271"
      },
      "execution_count": null,
      "outputs": [
        {
          "output_type": "execute_result",
          "data": {
            "text/plain": [
              "{'Sun.': 0.0,\n",
              " 'planet': 0.0,\n",
              " 'is': 0.2,\n",
              " 'from': 0.0,\n",
              " 'Mars': 0.0,\n",
              " 'fourth': 0.0,\n",
              " 'the': 0.2,\n",
              " 'planet.': 0.2,\n",
              " 'Jupiter': 0.2,\n",
              " 'largest': 0.2}"
            ]
          },
          "metadata": {},
          "execution_count": 71
        }
      ]
    },
    {
      "cell_type": "code",
      "source": [
        "tfB=computeTF(numOfWordsB, bagOfWordsB)"
      ],
      "metadata": {
        "id": "nuP_o0uBmNxG"
      },
      "execution_count": null,
      "outputs": []
    },
    {
      "cell_type": "code",
      "source": [
        "tfB"
      ],
      "metadata": {
        "colab": {
          "base_uri": "https://localhost:8080/"
        },
        "id": "iKQHjmEmmUjq",
        "outputId": "95117767-1486-49ef-fd32-2a1f34264dcf"
      },
      "execution_count": null,
      "outputs": [
        {
          "output_type": "execute_result",
          "data": {
            "text/plain": [
              "{'Sun.': 0.125,\n",
              " 'planet': 0.125,\n",
              " 'is': 0.125,\n",
              " 'from': 0.125,\n",
              " 'Mars': 0.125,\n",
              " 'fourth': 0.125,\n",
              " 'the': 0.25,\n",
              " 'planet.': 0.0,\n",
              " 'Jupiter': 0.0,\n",
              " 'largest': 0.0}"
            ]
          },
          "metadata": {},
          "execution_count": 73
        }
      ]
    },
    {
      "cell_type": "code",
      "source": [
        "import math"
      ],
      "metadata": {
        "id": "ZMwTEb60mYaw"
      },
      "execution_count": null,
      "outputs": []
    },
    {
      "cell_type": "code",
      "source": [
        "def computeIDF(documents):\n",
        "  N=len(documents)\n",
        "  idfDict=dict.fromkeys(documents[0].keys(), 0)\n",
        "  for document in documents:\n",
        "    for word, val in document.items():\n",
        "      if val>0:\n",
        "        idfDict[word]+=1\n",
        "  for word, val in idfDict.items():\n",
        "    idfDict[word]=math.log(N/float(val))\n",
        "  return idfDict"
      ],
      "metadata": {
        "id": "OxSXlHdUmma7"
      },
      "execution_count": null,
      "outputs": []
    },
    {
      "cell_type": "code",
      "source": [
        "idfs=computeIDF([numOfWordsA, numOfWordsB])"
      ],
      "metadata": {
        "id": "-zIKYPXInDuP"
      },
      "execution_count": null,
      "outputs": []
    },
    {
      "cell_type": "code",
      "source": [
        "idfs"
      ],
      "metadata": {
        "colab": {
          "base_uri": "https://localhost:8080/"
        },
        "id": "b0SBGEKunjUw",
        "outputId": "0f30ba92-5125-4bee-b07f-8b5b61de1700"
      },
      "execution_count": null,
      "outputs": [
        {
          "output_type": "execute_result",
          "data": {
            "text/plain": [
              "{'Sun.': 0.6931471805599453,\n",
              " 'planet': 0.6931471805599453,\n",
              " 'is': 0.0,\n",
              " 'from': 0.6931471805599453,\n",
              " 'Mars': 0.6931471805599453,\n",
              " 'fourth': 0.6931471805599453,\n",
              " 'the': 0.0,\n",
              " 'planet.': 0.6931471805599453,\n",
              " 'Jupiter': 0.6931471805599453,\n",
              " 'largest': 0.6931471805599453}"
            ]
          },
          "metadata": {},
          "execution_count": 79
        }
      ]
    },
    {
      "cell_type": "code",
      "source": [
        "def computeTFIDF(tfBagOfWords, idfs):\n",
        "  tfidf={}\n",
        "  for word, val in tfBagOfWords.items():\n",
        "    tfidf[word]=val+idfs[word]\n",
        "  return tfidf"
      ],
      "metadata": {
        "id": "KohREJYAnkMJ"
      },
      "execution_count": null,
      "outputs": []
    },
    {
      "cell_type": "code",
      "source": [
        "tfidfA=computeTFIDF(tfA, idfs)"
      ],
      "metadata": {
        "id": "GtUxu7cros9B"
      },
      "execution_count": null,
      "outputs": []
    },
    {
      "cell_type": "code",
      "source": [
        "tfidfA"
      ],
      "metadata": {
        "colab": {
          "base_uri": "https://localhost:8080/"
        },
        "id": "nvisQRuHoyES",
        "outputId": "231f5b6e-166b-4565-a05f-17ea55999b5b"
      },
      "execution_count": null,
      "outputs": [
        {
          "output_type": "execute_result",
          "data": {
            "text/plain": [
              "{'Sun.': 0.6931471805599453,\n",
              " 'planet': 0.6931471805599453,\n",
              " 'is': 0.2,\n",
              " 'from': 0.6931471805599453,\n",
              " 'Mars': 0.6931471805599453,\n",
              " 'fourth': 0.6931471805599453,\n",
              " 'the': 0.2,\n",
              " 'planet.': 0.8931471805599454,\n",
              " 'Jupiter': 0.8931471805599454,\n",
              " 'largest': 0.8931471805599454}"
            ]
          },
          "metadata": {},
          "execution_count": 82
        }
      ]
    },
    {
      "cell_type": "code",
      "source": [
        "tfidfB=computeTFIDF(tfB, idfs)"
      ],
      "metadata": {
        "id": "dp2fqHIRozVf"
      },
      "execution_count": null,
      "outputs": []
    },
    {
      "cell_type": "code",
      "source": [
        "tfidfB"
      ],
      "metadata": {
        "id": "Gt-wGlKfo4kH",
        "outputId": "da518865-02a8-41cc-887e-8a0ce1d9c689",
        "colab": {
          "base_uri": "https://localhost:8080/"
        }
      },
      "execution_count": null,
      "outputs": [
        {
          "output_type": "execute_result",
          "data": {
            "text/plain": [
              "{'Sun.': 0.8181471805599453,\n",
              " 'planet': 0.8181471805599453,\n",
              " 'is': 0.125,\n",
              " 'from': 0.8181471805599453,\n",
              " 'Mars': 0.8181471805599453,\n",
              " 'fourth': 0.8181471805599453,\n",
              " 'the': 0.25,\n",
              " 'planet.': 0.6931471805599453,\n",
              " 'Jupiter': 0.6931471805599453,\n",
              " 'largest': 0.6931471805599453}"
            ]
          },
          "metadata": {},
          "execution_count": 84
        }
      ]
    },
    {
      "cell_type": "code",
      "source": [],
      "metadata": {
        "id": "acq_iZdgo57x"
      },
      "execution_count": null,
      "outputs": []
    }
  ]
}